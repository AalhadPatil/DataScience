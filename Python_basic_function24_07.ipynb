{
  "nbformat": 4,
  "nbformat_minor": 0,
  "metadata": {
    "colab": {
      "provenance": [],
      "authorship_tag": "ABX9TyOx7yqwRRSuZvxC3NzDd1Gy",
      "include_colab_link": true
    },
    "kernelspec": {
      "name": "python3",
      "display_name": "Python 3"
    },
    "language_info": {
      "name": "python"
    }
  },
  "cells": [
    {
      "cell_type": "markdown",
      "metadata": {
        "id": "view-in-github",
        "colab_type": "text"
      },
      "source": [
        "<a href=\"https://colab.research.google.com/github/AalhadPatil/DataScience/blob/main/Python_basic_function24_07.ipynb\" target=\"_parent\"><img src=\"https://colab.research.google.com/assets/colab-badge.svg\" alt=\"Open In Colab\"/></a>"
      ]
    },
    {
      "cell_type": "code",
      "execution_count": 2,
      "metadata": {
        "colab": {
          "base_uri": "https://localhost:8080/"
        },
        "id": "OyU_xKR_Gl7H",
        "outputId": "685066e9-12ad-42b5-e88d-67e2e94ac5cb"
      },
      "outputs": [
        {
          "output_type": "stream",
          "name": "stdout",
          "text": [
            "x < y\n"
          ]
        }
      ],
      "source": [
        "x = 10\n",
        "y = 12\n",
        "# if x is greater than y\n",
        "if x > y:\n",
        "  print(\"x > y\")\n",
        "# if x is lesser than y\n",
        "elif x < y:\n",
        "  print(\"x < y\")\n",
        "else:\n",
        "  print(\"x = y\")"
      ]
    },
    {
      "cell_type": "code",
      "source": [
        "numbers = range(1, 6)"
      ],
      "metadata": {
        "id": "tadqXUsjGoBR"
      },
      "execution_count": 3,
      "outputs": []
    },
    {
      "cell_type": "code",
      "source": [
        "numbers"
      ],
      "metadata": {
        "colab": {
          "base_uri": "https://localhost:8080/"
        },
        "id": "MGedG-LI_eBQ",
        "outputId": "eaf4452a-1c01-4de0-e682-f6799383dd0c"
      },
      "execution_count": 4,
      "outputs": [
        {
          "output_type": "execute_result",
          "data": {
            "text/plain": [
              "range(1, 6)"
            ]
          },
          "metadata": {},
          "execution_count": 4
        }
      ]
    },
    {
      "cell_type": "code",
      "source": [
        "print(numbers)"
      ],
      "metadata": {
        "colab": {
          "base_uri": "https://localhost:8080/"
        },
        "id": "GywnFA4C_pV-",
        "outputId": "814d70aa-2169-4431-f99a-41d44c81b4db"
      },
      "execution_count": 5,
      "outputs": [
        {
          "output_type": "stream",
          "name": "stdout",
          "text": [
            "range(1, 6)\n"
          ]
        }
      ]
    },
    {
      "cell_type": "code",
      "source": [
        "for h in numbers:\n",
        "     print(h)"
      ],
      "metadata": {
        "colab": {
          "base_uri": "https://localhost:8080/"
        },
        "id": "4vJy487D_3io",
        "outputId": "1362c928-db9f-42b5-f62e-d385482f6b2b"
      },
      "execution_count": 6,
      "outputs": [
        {
          "output_type": "stream",
          "name": "stdout",
          "text": [
            "1\n",
            "2\n",
            "3\n",
            "4\n",
            "5\n"
          ]
        }
      ]
    },
    {
      "cell_type": "code",
      "source": [
        "def addElement(a,b):\n",
        "  return(a+b)"
      ],
      "metadata": {
        "id": "AfUmoc5IAwO-"
      },
      "execution_count": 7,
      "outputs": []
    },
    {
      "cell_type": "code",
      "source": [
        "result = addElement(26,4)\n",
        "result"
      ],
      "metadata": {
        "colab": {
          "base_uri": "https://localhost:8080/"
        },
        "id": "VYcZwfA5Kk2l",
        "outputId": "998b67a6-fe74-4e41-d38c-c4a4061af7fe"
      },
      "execution_count": 8,
      "outputs": [
        {
          "output_type": "execute_result",
          "data": {
            "text/plain": [
              "30"
            ]
          },
          "metadata": {},
          "execution_count": 8
        }
      ]
    },
    {
      "cell_type": "code",
      "source": [
        "result = addElement(3.24,5.23)\n",
        "result"
      ],
      "metadata": {
        "colab": {
          "base_uri": "https://localhost:8080/"
        },
        "id": "G8tQtTmPK0xM",
        "outputId": "815714a6-11ad-4fa5-ce21-f50189099aef"
      },
      "execution_count": 9,
      "outputs": [
        {
          "output_type": "execute_result",
          "data": {
            "text/plain": [
              "8.47"
            ]
          },
          "metadata": {},
          "execution_count": 9
        }
      ]
    },
    {
      "cell_type": "code",
      "source": [
        "result = addElement(\"python\", \"workshop\")\n",
        "result\n"
      ],
      "metadata": {
        "colab": {
          "base_uri": "https://localhost:8080/",
          "height": 36
        },
        "id": "qZShU_yINr2H",
        "outputId": "38f80c57-1cc2-4d77-fcfe-895d7e1accbf"
      },
      "execution_count": 10,
      "outputs": [
        {
          "output_type": "execute_result",
          "data": {
            "text/plain": [
              "'pythonworkshop'"
            ],
            "application/vnd.google.colaboratory.intrinsic+json": {
              "type": "string"
            }
          },
          "metadata": {},
          "execution_count": 10
        }
      ]
    },
    {
      "cell_type": "code",
      "source": [
        "def addElements(a, b = 4):\n",
        " return a + b\n"
      ],
      "metadata": {
        "id": "dSkT5a5KOjO-"
      },
      "execution_count": 11,
      "outputs": []
    },
    {
      "cell_type": "code",
      "source": [
        "addElements(2)"
      ],
      "metadata": {
        "colab": {
          "base_uri": "https://localhost:8080/"
        },
        "id": "pQ2RtPFxQe_K",
        "outputId": "94bb6d7b-1a9c-4367-df16-829b70acf798"
      },
      "execution_count": 12,
      "outputs": [
        {
          "output_type": "execute_result",
          "data": {
            "text/plain": [
              "6"
            ]
          },
          "metadata": {},
          "execution_count": 12
        }
      ]
    },
    {
      "cell_type": "code",
      "source": [
        "addElements(5, 5)"
      ],
      "metadata": {
        "colab": {
          "base_uri": "https://localhost:8080/"
        },
        "id": "5RRdNScxQnL4",
        "outputId": "7957f134-7e47-417e-cccf-59ca42ccfc69"
      },
      "execution_count": 13,
      "outputs": [
        {
          "output_type": "execute_result",
          "data": {
            "text/plain": [
              "10"
            ]
          },
          "metadata": {},
          "execution_count": 13
        }
      ]
    },
    {
      "cell_type": "code",
      "source": [
        "batsmen = ['Rohit', 'Dhawan', 'Kohli', 'Rahane', 'Rayudu', 'Dhoni']"
      ],
      "metadata": {
        "id": "AhqDD_F6Q7wF"
      },
      "execution_count": 14,
      "outputs": []
    },
    {
      "cell_type": "code",
      "source": [
        "type (batsmen)"
      ],
      "metadata": {
        "colab": {
          "base_uri": "https://localhost:8080/"
        },
        "id": "4jvrDgmYUWS9",
        "outputId": "2c162fb0-b200-40d2-8745-4e3839c65885"
      },
      "execution_count": 15,
      "outputs": [
        {
          "output_type": "execute_result",
          "data": {
            "text/plain": [
              "list"
            ]
          },
          "metadata": {},
          "execution_count": 15
        }
      ]
    },
    {
      "cell_type": "code",
      "source": [
        "batsmen[0]"
      ],
      "metadata": {
        "colab": {
          "base_uri": "https://localhost:8080/",
          "height": 36
        },
        "id": "KXrggqDRUfDb",
        "outputId": "8ed766e8-4887-4ab5-9566-58192e0057e8"
      },
      "execution_count": 16,
      "outputs": [
        {
          "output_type": "execute_result",
          "data": {
            "text/plain": [
              "'Rohit'"
            ],
            "application/vnd.google.colaboratory.intrinsic+json": {
              "type": "string"
            }
          },
          "metadata": {},
          "execution_count": 16
        }
      ]
    },
    {
      "cell_type": "code",
      "source": [
        "## Slicing a list\n",
        "batsmen[1:5]\n"
      ],
      "metadata": {
        "colab": {
          "base_uri": "https://localhost:8080/"
        },
        "id": "0enueZnwU6yu",
        "outputId": "5b16ccde-f33c-4ada-bd01-84212c2933e3"
      },
      "execution_count": 17,
      "outputs": [
        {
          "output_type": "execute_result",
          "data": {
            "text/plain": [
              "['Dhawan', 'Kohli', 'Rahane', 'Rayudu']"
            ]
          },
          "metadata": {},
          "execution_count": 17
        }
      ]
    },
    {
      "cell_type": "code",
      "source": [
        "## Accessing the last element\n",
        "batsmen[-1]"
      ],
      "metadata": {
        "id": "ADb5COnuVMDU",
        "colab": {
          "base_uri": "https://localhost:8080/",
          "height": 36
        },
        "outputId": "66d9ea98-d2bd-478a-e03a-d7288f22c98e"
      },
      "execution_count": 18,
      "outputs": [
        {
          "output_type": "execute_result",
          "data": {
            "text/plain": [
              "'Dhoni'"
            ],
            "application/vnd.google.colaboratory.intrinsic+json": {
              "type": "string"
            }
          },
          "metadata": {},
          "execution_count": 18
        }
      ]
    },
    {
      "cell_type": "code",
      "source": [
        "# how many elements in the list\n",
        "len(batsmen)"
      ],
      "metadata": {
        "colab": {
          "base_uri": "https://localhost:8080/"
        },
        "id": "12AeUk5ipL6q",
        "outputId": "3be7e13d-d2d0-461d-cf43-47e7cef259a7"
      },
      "execution_count": 19,
      "outputs": [
        {
          "output_type": "execute_result",
          "data": {
            "text/plain": [
              "6"
            ]
          },
          "metadata": {},
          "execution_count": 19
        }
      ]
    },
    {
      "cell_type": "code",
      "source": [
        "bowlers = ['Bumrah', 'Shami', 'Bhuvi', 'Kuldeep', 'Chahal']\n",
        "all_players = batsmen + bowlers\n",
        "all_players\n"
      ],
      "metadata": {
        "colab": {
          "base_uri": "https://localhost:8080/"
        },
        "id": "6ufoMUHIpyZi",
        "outputId": "42989d32-f6f3-4a04-b35b-7f2fb49cf370"
      },
      "execution_count": 20,
      "outputs": [
        {
          "output_type": "execute_result",
          "data": {
            "text/plain": [
              "['Rohit',\n",
              " 'Dhawan',\n",
              " 'Kohli',\n",
              " 'Rahane',\n",
              " 'Rayudu',\n",
              " 'Dhoni',\n",
              " 'Bumrah',\n",
              " 'Shami',\n",
              " 'Bhuvi',\n",
              " 'Kuldeep',\n",
              " 'Chahal']"
            ]
          },
          "metadata": {},
          "execution_count": 20
        }
      ]
    },
    {
      "cell_type": "code",
      "source": [
        "'Bumrah' in bowlers"
      ],
      "metadata": {
        "colab": {
          "base_uri": "https://localhost:8080/"
        },
        "id": "7X56XPSytYIT",
        "outputId": "734a1130-5000-4b2a-f86c-49f75b1d0e59"
      },
      "execution_count": 21,
      "outputs": [
        {
          "output_type": "execute_result",
          "data": {
            "text/plain": [
              "True"
            ]
          },
          "metadata": {},
          "execution_count": 21
        }
      ]
    },
    {
      "cell_type": "code",
      "source": [
        "'Rayudu' in bowlers"
      ],
      "metadata": {
        "colab": {
          "base_uri": "https://localhost:8080/"
        },
        "id": "cepsgFq7tfTW",
        "outputId": "b3b3b410-f6e9-4638-f4c7-caef8328ee6c"
      },
      "execution_count": 23,
      "outputs": [
        {
          "output_type": "execute_result",
          "data": {
            "text/plain": [
              "False"
            ]
          },
          "metadata": {},
          "execution_count": 23
        }
      ]
    },
    {
      "cell_type": "code",
      "source": [
        "all_players.index('Shami')"
      ],
      "metadata": {
        "colab": {
          "base_uri": "https://localhost:8080/"
        },
        "id": "FPYXYzBDt1Dt",
        "outputId": "b371013b-c3ee-421e-bf70-7a81cbf46af0"
      },
      "execution_count": 26,
      "outputs": [
        {
          "output_type": "execute_result",
          "data": {
            "text/plain": [
              "7"
            ]
          },
          "metadata": {},
          "execution_count": 26
        }
      ]
    },
    {
      "cell_type": "code",
      "source": [
        "all_players.reverse()\n",
        "all_players\n"
      ],
      "metadata": {
        "colab": {
          "base_uri": "https://localhost:8080/"
        },
        "id": "TMg2nFtPt8Ft",
        "outputId": "8d3a5333-b38e-4802-9a2b-c519d54f20bc"
      },
      "execution_count": 27,
      "outputs": [
        {
          "output_type": "execute_result",
          "data": {
            "text/plain": [
              "['Chahal',\n",
              " 'Kuldeep',\n",
              " 'Bhuvi',\n",
              " 'Shami',\n",
              " 'Bumrah',\n",
              " 'Dhoni',\n",
              " 'Rayudu',\n",
              " 'Rahane',\n",
              " 'Kohli',\n",
              " 'Dhawan',\n",
              " 'Rohit']"
            ]
          },
          "metadata": {},
          "execution_count": 27
        }
      ]
    },
    {
      "cell_type": "code",
      "source": [
        "odiDebut = ('Kohli', 2008)"
      ],
      "metadata": {
        "id": "2MW5EtnjuRVu"
      },
      "execution_count": 29,
      "outputs": []
    },
    {
      "cell_type": "code",
      "source": [
        "odiDebut"
      ],
      "metadata": {
        "colab": {
          "base_uri": "https://localhost:8080/"
        },
        "id": "tANC1BeWu_G8",
        "outputId": "08bf8527-5eef-4c73-9f47-449876376edc"
      },
      "execution_count": 30,
      "outputs": [
        {
          "output_type": "execute_result",
          "data": {
            "text/plain": [
              "('Kohli', 2008)"
            ]
          },
          "metadata": {},
          "execution_count": 30
        }
      ]
    },
    {
      "cell_type": "code",
      "source": [
        "odiDebut[0]\n"
      ],
      "metadata": {
        "colab": {
          "base_uri": "https://localhost:8080/",
          "height": 36
        },
        "id": "qDm_2Q-4vEH0",
        "outputId": "16814030-bca0-4175-b4bc-6139ff21dabf"
      },
      "execution_count": 33,
      "outputs": [
        {
          "output_type": "execute_result",
          "data": {
            "text/plain": [
              "'Kohli'"
            ],
            "application/vnd.google.colaboratory.intrinsic+json": {
              "type": "string"
            }
          },
          "metadata": {},
          "execution_count": 33
        }
      ]
    },
    {
      "cell_type": "code",
      "source": [
        "tup1[1] = 2009\n"
      ],
      "metadata": {
        "colab": {
          "base_uri": "https://localhost:8080/",
          "height": 141
        },
        "id": "2DQkCxHdvYBF",
        "outputId": "593d3613-80c1-48c8-ac8e-10b61da6345d"
      },
      "execution_count": 34,
      "outputs": [
        {
          "output_type": "error",
          "ename": "NameError",
          "evalue": "name 'tup1' is not defined",
          "traceback": [
            "\u001b[0;31m---------------------------------------------------------------------------\u001b[0m",
            "\u001b[0;31mNameError\u001b[0m                                 Traceback (most recent call last)",
            "\u001b[0;32m/tmp/ipython-input-34-2102943146.py\u001b[0m in \u001b[0;36m<cell line: 0>\u001b[0;34m()\u001b[0m\n\u001b[0;32m----> 1\u001b[0;31m \u001b[0mtup1\u001b[0m\u001b[0;34m[\u001b[0m\u001b[0;36m1\u001b[0m\u001b[0;34m]\u001b[0m \u001b[0;34m=\u001b[0m \u001b[0;36m2009\u001b[0m\u001b[0;34m\u001b[0m\u001b[0;34m\u001b[0m\u001b[0m\n\u001b[0m",
            "\u001b[0;31mNameError\u001b[0m: name 'tup1' is not defined"
          ]
        }
      ]
    },
    {
      "cell_type": "code",
      "source": [
        "players = tuple(all_players)\n",
        "players"
      ],
      "metadata": {
        "colab": {
          "base_uri": "https://localhost:8080/"
        },
        "id": "VGGqGO5wv3s3",
        "outputId": "9e1ea2c4-b83e-4fbb-975f-9a8b35547163"
      },
      "execution_count": 37,
      "outputs": [
        {
          "output_type": "execute_result",
          "data": {
            "text/plain": [
              "('Chahal',\n",
              " 'Kuldeep',\n",
              " 'Bhuvi',\n",
              " 'Shami',\n",
              " 'Bumrah',\n",
              " 'Dhoni',\n",
              " 'Rayudu',\n",
              " 'Rahane',\n",
              " 'Kohli',\n",
              " 'Dhawan',\n",
              " 'Rohit')"
            ]
          },
          "metadata": {},
          "execution_count": 37
        }
      ]
    },
    {
      "cell_type": "code",
      "source": [
        "setOfNumber = {6,1,1,2,4,5}"
      ],
      "metadata": {
        "id": "ZRLPtNhcwUSN"
      },
      "execution_count": 51,
      "outputs": []
    },
    {
      "cell_type": "code",
      "source": [
        "setOfNumber"
      ],
      "metadata": {
        "colab": {
          "base_uri": "https://localhost:8080/"
        },
        "id": "Mpwqb_k3wyaR",
        "outputId": "8601f51e-18c2-42ab-bd9e-a6d455d6343f"
      },
      "execution_count": 52,
      "outputs": [
        {
          "output_type": "execute_result",
          "data": {
            "text/plain": [
              "{1, 2, 4, 5, 6}"
            ]
          },
          "metadata": {},
          "execution_count": 52
        }
      ]
    },
    {
      "cell_type": "code",
      "source": [
        "wc2011 = { \"Dhoni\", \"Sehwag\", \"Tendulkar\", \"Gambhir\",\n",
        "\"Kohli\", \"Raina\", \"Yuvraj\", \"Yusuf\"}\n",
        "wc2015 = { \"Dhoni\", \"Dhawan\", \"Rohit\", \"Rahane\",\n",
        "\"Kohli\", \"Raina\", \"Rayudu\", \"Jadeja\"}"
      ],
      "metadata": {
        "id": "OMhxz_9ew4Fh"
      },
      "execution_count": 42,
      "outputs": []
    },
    {
      "cell_type": "code",
      "source": [
        "wc2011.union(wc2015)"
      ],
      "metadata": {
        "colab": {
          "base_uri": "https://localhost:8080/"
        },
        "id": "Sk8Xbpb7yu3s",
        "outputId": "4cb98107-5f57-41c5-c802-2df9cabaa541"
      },
      "execution_count": 43,
      "outputs": [
        {
          "output_type": "execute_result",
          "data": {
            "text/plain": [
              "{'Dhawan',\n",
              " 'Dhoni',\n",
              " 'Gambhir',\n",
              " 'Jadeja',\n",
              " 'Kohli',\n",
              " 'Rahane',\n",
              " 'Raina',\n",
              " 'Rayudu',\n",
              " 'Rohit',\n",
              " 'Sehwag',\n",
              " 'Tendulkar',\n",
              " 'Yusuf',\n",
              " 'Yuvraj'}"
            ]
          },
          "metadata": {},
          "execution_count": 43
        }
      ]
    },
    {
      "cell_type": "code",
      "source": [
        "wc2011.intersection(wc2015)"
      ],
      "metadata": {
        "colab": {
          "base_uri": "https://localhost:8080/"
        },
        "id": "Dke20dLMy5YT",
        "outputId": "385e6e86-17fe-4490-ef6c-cd385112b04e"
      },
      "execution_count": 44,
      "outputs": [
        {
          "output_type": "execute_result",
          "data": {
            "text/plain": [
              "{'Dhoni', 'Kohli', 'Raina'}"
            ]
          },
          "metadata": {},
          "execution_count": 44
        }
      ]
    },
    {
      "cell_type": "code",
      "source": [
        "wc2015.difference( wc2011 )"
      ],
      "metadata": {
        "colab": {
          "base_uri": "https://localhost:8080/"
        },
        "id": "YSQ74gmkzAR-",
        "outputId": "aad75df3-ec9a-44d7-86ec-39a339cb5e80"
      },
      "execution_count": 45,
      "outputs": [
        {
          "output_type": "execute_result",
          "data": {
            "text/plain": [
              "{'Dhawan', 'Jadeja', 'Rahane', 'Rayudu', 'Rohit'}"
            ]
          },
          "metadata": {},
          "execution_count": 45
        }
      ]
    },
    {
      "cell_type": "code",
      "source": [
        "# Dictionary is a list of key and value pairs. All the keys in a dictionary are unique. For example, a dictionary\n",
        "# that contains the ICC ODI World Cup winner from 1975 till 2011, where the key is year of tournament\n",
        "# and the value is the name of the winning country.\n",
        "\n",
        "wcWinners = { 1975: \"West Indies\",\n",
        "1979: \"West Indies\",\n",
        "1983: \"India\",\n",
        "1987: \"Australia\",\n",
        "1991: \"Pakistan\",\n",
        "1996: \"Sri Lanka\",\n",
        "1999: \"Australia\",\n",
        "2003: \"Australia\",\n",
        "2007: \"Australia\",\n",
        "2011: \"India\"}"
      ],
      "metadata": {
        "id": "BFkPu36ozFzV"
      },
      "execution_count": 56,
      "outputs": []
    },
    {
      "cell_type": "code",
      "source": [
        "wcWinners[1983]"
      ],
      "metadata": {
        "colab": {
          "base_uri": "https://localhost:8080/",
          "height": 36
        },
        "id": "zc8dmKFA1vNF",
        "outputId": "7fdf7d97-ed52-40a2-f697-2e7ae7cf66d6"
      },
      "execution_count": 57,
      "outputs": [
        {
          "output_type": "execute_result",
          "data": {
            "text/plain": [
              "'India'"
            ],
            "application/vnd.google.colaboratory.intrinsic+json": {
              "type": "string"
            }
          },
          "metadata": {},
          "execution_count": 57
        }
      ]
    },
    {
      "cell_type": "code",
      "source": [
        "wcWinners[2011]"
      ],
      "metadata": {
        "colab": {
          "base_uri": "https://localhost:8080/",
          "height": 36
        },
        "id": "mPFRKOPF2gf9",
        "outputId": "0eeb2ae3-23fb-4a0f-98fe-cc7db1550338"
      },
      "execution_count": 58,
      "outputs": [
        {
          "output_type": "execute_result",
          "data": {
            "text/plain": [
              "'India'"
            ],
            "application/vnd.google.colaboratory.intrinsic+json": {
              "type": "string"
            }
          },
          "metadata": {},
          "execution_count": 58
        }
      ]
    },
    {
      "cell_type": "code",
      "source": [
        "#For a list of all winning countries use the following code:\n",
        "wcWinners.values()\n"
      ],
      "metadata": {
        "colab": {
          "base_uri": "https://localhost:8080/"
        },
        "id": "h6gkO4662j8G",
        "outputId": "9164a72b-c17f-41a4-c769-7ff9d92422f2"
      },
      "execution_count": 59,
      "outputs": [
        {
          "output_type": "execute_result",
          "data": {
            "text/plain": [
              "dict_values(['West Indies', 'West Indies', 'India', 'Australia', 'Pakistan', 'Sri Lanka', 'Australia', 'Australia', 'Australia', 'India'])"
            ]
          },
          "metadata": {},
          "execution_count": 59
        }
      ]
    },
    {
      "cell_type": "code",
      "source": [
        "#To find unique list of countries, the above list can be converted to a set.\n",
        "\n",
        "set(wcWinners.values())\n"
      ],
      "metadata": {
        "colab": {
          "base_uri": "https://localhost:8080/"
        },
        "id": "Tiaw2rMD3AFU",
        "outputId": "cc276502-194a-4374-d217-b3e4181ce5f4"
      },
      "execution_count": 60,
      "outputs": [
        {
          "output_type": "execute_result",
          "data": {
            "text/plain": [
              "{'Australia', 'India', 'Pakistan', 'Sri Lanka', 'West Indies'}"
            ]
          },
          "metadata": {},
          "execution_count": 60
        }
      ]
    },
    {
      "cell_type": "code",
      "source": [
        "#To adding a new key-value pair to the dictionary, use the following code:\n",
        "\n",
        "wcWinners[2015] = 'Australia'\n",
        "wcWinners"
      ],
      "metadata": {
        "colab": {
          "base_uri": "https://localhost:8080/"
        },
        "id": "ryU_AoId3Qe4",
        "outputId": "53788941-6549-42a3-b3f6-ce3f366048c3"
      },
      "execution_count": 62,
      "outputs": [
        {
          "output_type": "execute_result",
          "data": {
            "text/plain": [
              "{1975: 'West Indies',\n",
              " 1979: 'West Indies',\n",
              " 1983: 'India',\n",
              " 1987: 'Australia',\n",
              " 1991: 'Pakistan',\n",
              " 1996: 'Sri Lanka',\n",
              " 1999: 'Australia',\n",
              " 2003: 'Australia',\n",
              " 2007: 'Australia',\n",
              " 2011: 'India',\n",
              " 2015: 'Australia'}"
            ]
          },
          "metadata": {},
          "execution_count": 62
        }
      ]
    },
    {
      "cell_type": "code",
      "source": [],
      "metadata": {
        "id": "cSpO2I3W3nhA"
      },
      "execution_count": null,
      "outputs": []
    }
  ]
}